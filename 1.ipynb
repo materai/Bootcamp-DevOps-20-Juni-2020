{
  "nbformat": 4,
  "nbformat_minor": 0,
  "metadata": {
    "colab": {
      "name": "1.ipynb",
      "provenance": []
    },
    "kernelspec": {
      "name": "python3",
      "display_name": "Python 3"
    }
  },
  "cells": [
    {
      "cell_type": "markdown",
      "metadata": {
        "id": "tFJQjN-rYSg1",
        "colab_type": "text"
      },
      "source": [
        ""
      ]
    },
    {
      "cell_type": "markdown",
      "metadata": {
        "id": "8Y5Go3uPZBVc",
        "colab_type": "text"
      },
      "source": [
        "Soal Nomor 1"
      ]
    },
    {
      "cell_type": "code",
      "metadata": {
        "id": "rdhFsILHYRxR",
        "colab_type": "code",
        "colab": {
          "base_uri": "https://localhost:8080/",
          "height": 50
        },
        "outputId": "cd3851ae-b68e-444d-9319-d98a6b909e12"
      },
      "source": [
        "Input1 = [\"Arkdemian\",\"Fighter !\"]\n",
        "Input2 = [\"Halangan\",\"Rintangan\",\"Exercise\"]\n",
        "\n",
        "print(\"Hello\", Input1[0], Input1[1])\n",
        "print(\"This is an\", Input2[2])"
      ],
      "execution_count": 3,
      "outputs": [
        {
          "output_type": "stream",
          "text": [
            "Hello Arkdemian Fighter !\n",
            "This is an Exercise\n"
          ],
          "name": "stdout"
        }
      ]
    }
  ]
}