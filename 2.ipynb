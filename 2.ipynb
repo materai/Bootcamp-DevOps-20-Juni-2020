{
  "nbformat": 4,
  "nbformat_minor": 0,
  "metadata": {
    "colab": {
      "name": "2.ipynb",
      "provenance": []
    },
    "kernelspec": {
      "name": "python3",
      "display_name": "Python 3"
    }
  },
  "cells": [
    {
      "cell_type": "markdown",
      "metadata": {
        "id": "3dOKk0g3aHXk",
        "colab_type": "text"
      },
      "source": [
        "Soal 2 "
      ]
    },
    {
      "cell_type": "code",
      "metadata": {
        "id": "EeoPvpUbaF8j",
        "colab_type": "code",
        "colab": {}
      },
      "source": [
        "def Angka (A):\n",
        "  Angka = input(\"Angka =\")\n",
        "  if len(Angka) > 15:\n",
        "    print(\"Angka Melewati Batas (Batas Max 15)\")\n",
        "  elif len(Angka) >= 15:\n",
        "    print(len(Angka[0:2]),\"-\",len(Angka[3:5]),\"-\",len(Angka[6:8]),\"-\",len(Angka[9:11]),\"-\",len(Angka[12:14]))\n",
        "    return Angka\n"
      ],
      "execution_count": 19,
      "outputs": []
    }
  ]
}